{
  "nbformat": 4,
  "nbformat_minor": 0,
  "metadata": {
    "colab": {
      "provenance": [],
      "authorship_tag": "ABX9TyOFlM61I8P1+alF+75Qz96b",
      "include_colab_link": true
    },
    "kernelspec": {
      "name": "python3",
      "display_name": "Python 3"
    },
    "language_info": {
      "name": "python"
    }
  },
  "cells": [
    {
      "cell_type": "markdown",
      "metadata": {
        "id": "view-in-github",
        "colab_type": "text"
      },
      "source": [
        "<a href=\"https://colab.research.google.com/github/TensorTorch777/Neural-Networks-from-SCRATCH/blob/main/Lecture1_NeuralNetworks_From_Scratch_Part1.ipynb\" target=\"_parent\"><img src=\"https://colab.research.google.com/assets/colab-badge.svg\" alt=\"Open In Colab\"/></a>"
      ]
    },
    {
      "cell_type": "markdown",
      "source": [
        "## Neuron with 3 inputs"
      ],
      "metadata": {
        "id": "vc8V7nmcED61"
      }
    },
    {
      "cell_type": "code",
      "source": [
        "inputs = [1,2,3]\n",
        "weights = [0.2, 0.8, -0.5]\n",
        "bias = 2\n",
        "\n",
        "outputs = (inputs[0]*weights[0] + inputs[1]*weights[1] + inputs[2]*weights[2] + bias)\n",
        "print(outputs)"
      ],
      "metadata": {
        "colab": {
          "base_uri": "https://localhost:8080/"
        },
        "id": "-SdwnzIMEQcH",
        "outputId": "dc373630-4acc-4782-9ca9-f24d5117a15a"
      },
      "execution_count": 1,
      "outputs": [
        {
          "output_type": "stream",
          "name": "stdout",
          "text": [
            "2.3\n"
          ]
        }
      ]
    },
    {
      "cell_type": "markdown",
      "source": [
        "## Neuron with 4 Inputs"
      ],
      "metadata": {
        "id": "NRZaDVKRFdab"
      }
    },
    {
      "cell_type": "code",
      "source": [
        "input1 = [1.0, 2.0, 3.0, 2.5]\n",
        "weight1 = [0.2, 0.8, -0.5, 1.0]\n",
        "bias = 2.0\n",
        "output1 = (input1[0]*weight1[0] +\n",
        "           input1[1]*weight1[1] +\n",
        "           input1[2]*weight1[2] +\n",
        "           input1[3]*weight1[3] +\n",
        "           bias)\n",
        "print(output1)"
      ],
      "metadata": {
        "colab": {
          "base_uri": "https://localhost:8080/"
        },
        "id": "Bh5UNzRiFiLo",
        "outputId": "d4fdc010-459e-474d-bf2c-85890554bdb1"
      },
      "execution_count": 2,
      "outputs": [
        {
          "output_type": "stream",
          "name": "stdout",
          "text": [
            "4.8\n"
          ]
        }
      ]
    },
    {
      "cell_type": "markdown",
      "source": [
        "## Layers of Neurons"
      ],
      "metadata": {
        "id": "s8rIcAusJPaI"
      }
    },
    {
      "cell_type": "code",
      "source": [
        "inputs = [1, 2, 3, 2.5]\n",
        "weights = [[0.2, 0.8, -0.5, 1],\n",
        "           [0.5, -0.91, 0.26, -0.5],\n",
        "           [-0.26, -0.27, 0.17, 0.87]]\n",
        "weights1 = weights[0] #lists of weights associated with 1st neuron: W11, W12, W13, W14\n",
        "weights2 = weights[1] #lists of weights associated with 2nd neuron: W21, W22, W23, W24\n",
        "weights3 = weights[2] #lists of weights associated with 3rd neuron: W31, W32, W33, W34\n",
        "\n",
        "bias1 = 2\n",
        "bias2 = 3\n",
        "bias3 = 0.5\n",
        "\n",
        "outputs = [\n",
        "    #Neuron 1:\n",
        "    inputs[0]*weights1[0] +\n",
        "    inputs[1]*weights1[1] +\n",
        "    inputs[2]*weights1[2] +\n",
        "    inputs[3]*weights1[3] +\n",
        "    bias1,\n",
        "    #Neuron 2:\n",
        "    inputs[0]*weights2[0] +\n",
        "    inputs[1]*weights2[1] +\n",
        "    inputs[2]*weights2[2] +\n",
        "    inputs[3]*weights2[3] +\n",
        "    bias2,\n",
        "    #Neuron 3:\n",
        "    inputs[0]*weights3[0] +\n",
        "    inputs[1]*weights3[1] +\n",
        "    inputs[2]*weights3[2] +\n",
        "    inputs[3]*weights3[3] +\n",
        "    bias3\n",
        "]\n",
        "print(outputs)"
      ],
      "metadata": {
        "colab": {
          "base_uri": "https://localhost:8080/"
        },
        "id": "r6cktT3PGwuG",
        "outputId": "d26aea62-d019-4199-c77a-c5e2369567d7"
      },
      "execution_count": 4,
      "outputs": [
        {
          "output_type": "stream",
          "name": "stdout",
          "text": [
            "[4.8, 1.21, 2.385]\n"
          ]
        }
      ]
    },
    {
      "cell_type": "markdown",
      "source": [
        "## USING LOOPS FOR BETTER AND EASIER CODING"
      ],
      "metadata": {
        "id": "0kOTn5kzOrQU"
      }
    },
    {
      "cell_type": "code",
      "source": [
        "inputs = [1, 2, 3, 2.5]\n",
        "weights = weights = [[0.2, 0.8, -0.5, 1],\n",
        "           [0.5, -0.91, 0.26, -0.5],\n",
        "           [-0.26, -0.27, 0.17, 0.87]]\n",
        "biases = [2, 3, 0.5]\n",
        "\n",
        "layer_outputs = []\n",
        "\n",
        "#for each neuron\n",
        "for neuron_weights, neuron_bias in zip(weights, biases):\n",
        "  #zeroed output for given neuron\n",
        "  neuron_output = 0\n",
        "  #for each input and weight to the neuron\n",
        "  for n_input, weight in zip(inputs, neuron_weights):\n",
        "    #multiply this input by associated weight\n",
        "    #and add to the neuron's output variable\n",
        "    neuron_output += n_input*weight\n",
        "    #add bais\n",
        "  neuron_output += neuron_bias\n",
        "  #put neuron's result to the layer's output list\n",
        "  layer_outputs.append(neuron_output)\n",
        "\n",
        "print(layer_outputs)"
      ],
      "metadata": {
        "colab": {
          "base_uri": "https://localhost:8080/"
        },
        "id": "ldr2FUbGLy_A",
        "outputId": "1b93c625-efcd-45ed-cdbc-59b214abfb64"
      },
      "execution_count": 5,
      "outputs": [
        {
          "output_type": "stream",
          "name": "stdout",
          "text": [
            "[4.8, 1.21, 2.385]\n"
          ]
        }
      ]
    },
    {
      "cell_type": "code",
      "source": [],
      "metadata": {
        "id": "opObOBPwRHb5"
      },
      "execution_count": null,
      "outputs": []
    }
  ]
}